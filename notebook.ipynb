{
 "cells": [
  {
   "cell_type": "code",
   "execution_count": 28,
   "metadata": {},
   "outputs": [
    {
     "name": "stdout",
     "output_type": "stream",
     "text": [
      "\n",
      "        Here is what I know:\n",
      "        director: Christopher Nolan\n",
      "        the main cast: Leonardo DiCaprio, Joseph Gordon-Levitt, Ellen Page\n",
      "        the budget: $160,000,000\n",
      "        the box office revenue: $829,895,144\n",
      "        the genre of the movie : Action,Adventure,Sci-Fi"
     ]
    },
    {
     "data": {
      "text/plain": [
       "AIMessageChunk(content='\\n        Here is what I know:\\n        director: Christopher Nolan\\n        the main cast: Leonardo DiCaprio, Joseph Gordon-Levitt, Ellen Page\\n        the budget: $160,000,000\\n        the box office revenue: $829,895,144\\n        the genre of the movie : Action,Adventure,Sci-Fi')"
      ]
     },
     "execution_count": 28,
     "metadata": {},
     "output_type": "execute_result"
    }
   ],
   "source": [
    "from langchain.chat_models import ChatOpenAI\n",
    "from langchain.prompts.few_shot import FewShotChatMessagePromptTemplate\n",
    "from langchain.callbacks import StreamingStdOutCallbackHandler\n",
    "from langchain.prompts import ChatMessagePromptTemplate, ChatPromptTemplate\n",
    "\n",
    "chat = ChatOpenAI(\n",
    "    temperature=0.1,\n",
    "    streaming=True,\n",
    "    callbacks=[\n",
    "        StreamingStdOutCallbackHandler(),\n",
    "    ],\n",
    ")\n",
    "\n",
    "\n",
    "examples = [\n",
    "    {\n",
    "        \"movie\": \"The Shawshank Redemption\",\n",
    "        \"answer\": \"\"\"\n",
    "        Here is what I know:\n",
    "        director: Frank Darabont\n",
    "        the main cast: Tim Robbins, Morgan Freeman, Bob Gunton\n",
    "        the budget: $25,000,000\n",
    "        the box office revenue: 28,904,642\n",
    "        the genre of the movie : Drama\n",
    "        \"\"\",\n",
    "    },\n",
    "    {\n",
    "        \"movie\": \"Daeboo\",\n",
    "        \"answer\": \"\"\"\n",
    "        Here is what I know:\n",
    "        director: Francis Ford Coppola\n",
    "        the main cast: Marlon Brando, Al Pacino, James Caan\n",
    "        the budget: $6,000,000\n",
    "        the box office revenue: $250,342,030\n",
    "        the genre of the movie : Crime, Drama\n",
    "        \"\"\",\n",
    "    },\n",
    "    {\n",
    "        \"movie\": \"The Dark Knight\",\n",
    "        \"answer\": \"\"\"\n",
    "        Here is what I know:\n",
    "        director: Christopher Nolan\n",
    "        the main cast: Christian Bale, Heath Ledger, Aaron Eckhart\n",
    "        the budget: $185,000,000\n",
    "        the box office revenue: $1,008,486,720\n",
    "        the genre of the movie : Action,Crime,Drama,Thriller\n",
    "        \"\"\",\n",
    "    },\n",
    "]\n",
    "\n",
    "\n",
    "example_prompt = ChatPromptTemplate.from_messages(\n",
    "    [\n",
    "        (\"human\", \"What do you know about {movie}?\"),\n",
    "        (\"ai\", \"{answer}\"),\n",
    "    ]\n",
    ")\n",
    "\n",
    "example_prompt = FewShotChatMessagePromptTemplate(\n",
    "    example_prompt=example_prompt,\n",
    "    examples=examples,\n",
    ")\n",
    "\n",
    "final_prompt = ChatPromptTemplate.from_messages(\n",
    "    [\n",
    "        (\"system\", \"You are a movie expert, you give short answers.\"),\n",
    "        example_prompt,\n",
    "        (\"human\", \"What do you know about {movie}?\"),\n",
    "    ]\n",
    ")\n",
    "\n",
    "chain = final_prompt | chat\n",
    "\n",
    "chain.invoke({\"movie\": \"Inception\"})"
   ]
  },
  {
   "cell_type": "code",
   "execution_count": null,
   "metadata": {},
   "outputs": [],
   "source": []
  }
 ],
 "metadata": {
  "kernelspec": {
   "display_name": "env",
   "language": "python",
   "name": "python3"
  },
  "language_info": {
   "codemirror_mode": {
    "name": "ipython",
    "version": 3
   },
   "file_extension": ".py",
   "mimetype": "text/x-python",
   "name": "python",
   "nbconvert_exporter": "python",
   "pygments_lexer": "ipython3",
   "version": "3.11.8"
  }
 },
 "nbformat": 4,
 "nbformat_minor": 2
}
