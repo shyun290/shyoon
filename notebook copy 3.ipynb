{
 "cells": [
  {
   "cell_type": "code",
   "execution_count": 36,
   "metadata": {},
   "outputs": [
    {
     "name": "stdout",
     "output_type": "stream",
     "text": [
      "🧝‍♂️🧙‍♂️🗡️\n"
     ]
    }
   ],
   "source": [
    "import time\n",
    "from langchain.document_loaders import UnstructuredFileLoader\n",
    "from langchain.embeddings import CacheBackedEmbeddings, OpenAIEmbeddings\n",
    "from langchain.storage import LocalFileStore\n",
    "from langchain.text_splitter import CharacterTextSplitter\n",
    "from langchain.vectorstores.faiss import FAISS\n",
    "import streamlit as st\n",
    "\n",
    "st.set_page_config(\n",
    "    page_title=\"DocumentGPT\",\n",
    "    page_icon=\"📃\",\n",
    ")\n",
    "\n",
    "\n",
    "@st.cache_data(show_spinner=\"Embedding file...\")\n",
    "def embed_file(file):\n",
    "    file_content = file.read()\n",
    "    file_path = f\"./.cache/files/{file.name}\"\n",
    "    with open(file_path, \"wb\") as f:\n",
    "        f.write(file_content)\n",
    "    cache_dir = LocalFileStore(f\"./.cache/embeddings/{file.name}\")\n",
    "    splitter = CharacterTextSplitter.from_tiktoken_encoder(\n",
    "        separator=\"\\n\",\n",
    "        chunk_size=600,\n",
    "        chunk_overlap=100,\n",
    "    )\n",
    "    loader = UnstructuredFileLoader(file_path)\n",
    "    docs = loader.load_and_split(text_splitter=splitter)\n",
    "    embeddings = OpenAIEmbeddings()\n",
    "    cached_embeddings = CacheBackedEmbeddings.from_bytes_store(embeddings, cache_dir)\n",
    "    vectorstore = FAISS.from_documents(docs, cached_embeddings)\n",
    "    retriever = vectorstore.as_retriever()\n",
    "    return retriever\n",
    "\n",
    "\n",
    "def send_message(message, role, save=True):\n",
    "    with st.chat_message(role):\n",
    "        st.markdown(message)\n",
    "    if save:\n",
    "        st.session_state[\"messages\"].append({\"message\": message, \"role\": role})\n",
    "\n",
    "\n",
    "def paint_history():\n",
    "    for message in st.session_state[\"messages\"]:\n",
    "        send_message(\n",
    "            message[\"message\"],\n",
    "            message[\"role\"],\n",
    "            save=False,\n",
    "        )\n",
    "\n",
    "\n",
    "st.title(\"DocumentGPT\")\n",
    "\n",
    "st.markdown(\n",
    "    \"\"\"\n",
    "Welcome!\n",
    "            \n",
    "Use this chatbot to ask questions to an AI about your files!\n",
    "\n",
    "Upload your files on the sidebar.\n",
    "\"\"\"\n",
    ")\n",
    "\n",
    "with st.sidebar:\n",
    "    file = st.file_uploader(\n",
    "        \"Upload a .txt .pdf or .docx file\",\n",
    "        type=[\"pdf\", \"txt\", \"docx\"],\n",
    "    )\n",
    "\n",
    "if file:\n",
    "    retriever = embed_file(file)\n",
    "    send_message(\"I'm ready! Ask away!\", \"ai\", save=False)\n",
    "    paint_history()\n",
    "    message = st.chat_input(\"Ask anything about your file...\")\n",
    "    if message:\n",
    "        send_message(message, \"human\")\n",
    "else:\n",
    "    st.session_state[\"messages\"] = []"
   ]
  },
  {
   "cell_type": "code",
   "execution_count": 37,
   "metadata": {},
   "outputs": [
    {
     "name": "stdout",
     "output_type": "stream",
     "text": [
      "🏃‍♂️🍫🏅\n"
     ]
    }
   ],
   "source": [
    "invoke_chain(\"Forrest Gump\")"
   ]
  }
 ],
 "metadata": {
  "kernelspec": {
   "display_name": "env",
   "language": "python",
   "name": "python3"
  },
  "language_info": {
   "codemirror_mode": {
    "name": "ipython",
    "version": 3
   },
   "file_extension": ".py",
   "mimetype": "text/x-python",
   "name": "python",
   "nbconvert_exporter": "python",
   "pygments_lexer": "ipython3",
   "version": "3.11.9"
  }
 },
 "nbformat": 4,
 "nbformat_minor": 2
}
